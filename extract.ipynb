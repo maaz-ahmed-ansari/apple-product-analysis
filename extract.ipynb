{
 "cells": [
  {
   "cell_type": "code",
   "execution_count": 0,
   "metadata": {
    "application/vnd.databricks.v1+cell": {
     "cellMetadata": {
      "byteLimit": 2048000,
      "rowLimit": 10000
     },
     "inputWidgets": {},
     "nuid": "47027bff-66d2-45c0-ab29-1dbce25ebcf3",
     "showTitle": false,
     "title": ""
    }
   },
   "outputs": [],
   "source": [
    "%run \"./reader_factory\""
   ]
  },
  {
   "cell_type": "code",
   "execution_count": 0,
   "metadata": {
    "application/vnd.databricks.v1+cell": {
     "cellMetadata": {
      "byteLimit": 2048000,
      "rowLimit": 10000
     },
     "inputWidgets": {},
     "nuid": "1d00da8f-55eb-439c-be1e-e6c8f3c97463",
     "showTitle": false,
     "title": ""
    }
   },
   "outputs": [],
   "source": [
    "class Extractor:\n",
    "    \"\"\"\n",
    "    Abstract class\n",
    "    \"\"\"\n",
    "    def __init__(self):\n",
    "        pass\n",
    "    def extract(self):\n",
    "        pass\n",
    "\n",
    "class AirpodsAfterIPhoneExtractor(Extractor):\n",
    "    def extract(self):\n",
    "        transactionInputDF = get_data_source(\n",
    "            data_type='csv',\n",
    "            file_path='dbfs:/FileStore/tables/Transaction_Updated.csv'            \n",
    "        ).get_data_frame()\n",
    "\n",
    "        transactionInputDF.orderBy(\"customer_id\", \"transaction_date\").show()\n",
    "        \n",
    "        customerInputDF = get_data_source(\n",
    "            data_type = \"delta\",\n",
    "            file_path = \"default.customer_delta_table_persist\"\n",
    "        ).get_data_frame()\n",
    "\n",
    "        inputDFs = {\n",
    "            \"transactionInputDF\": transactionInputDF,\n",
    "            \"customerInputDF\": customerInputDF\n",
    "        }\n",
    "\n",
    "        return inputDFs"
   ]
  }
 ],
 "metadata": {
  "application/vnd.databricks.v1+notebook": {
   "dashboards": [],
   "environmentMetadata": null,
   "language": "python",
   "notebookMetadata": {
    "pythonIndentUnit": 4
   },
   "notebookName": "extract",
   "widgets": {}
  }
 },
 "nbformat": 4,
 "nbformat_minor": 0
}
