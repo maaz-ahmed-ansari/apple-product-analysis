{
 "cells": [
  {
   "cell_type": "code",
   "execution_count": 0,
   "metadata": {
    "application/vnd.databricks.v1+cell": {
     "cellMetadata": {
      "byteLimit": 2048000,
      "rowLimit": 10000
     },
     "inputWidgets": {},
     "nuid": "58f5950b-7ba1-4370-8206-4442a8390e28",
     "showTitle": false,
     "title": ""
    }
   },
   "outputs": [],
   "source": [
    "%run \"./loader_factory\""
   ]
  },
  {
   "cell_type": "code",
   "execution_count": 0,
   "metadata": {
    "application/vnd.databricks.v1+cell": {
     "cellMetadata": {
      "byteLimit": 2048000,
      "rowLimit": 10000
     },
     "inputWidgets": {},
     "nuid": "2284e28f-af89-4442-9c26-b92d0ea0dc8e",
     "showTitle": false,
     "title": ""
    }
   },
   "outputs": [],
   "source": [
    "class Loader:\n",
    "    def __init__(self, transformedDF):\n",
    "        self.transformedDF = transformedDF\n",
    "\n",
    "    def sink(self):\n",
    "        pass\n",
    "\n",
    "class AirPodsAfterIPhoneLoader(Loader):\n",
    "    def sink(self):\n",
    "        get_sink_source(\n",
    "            sink_type = \"dbfs\", \n",
    "            df = self.transformedDF, \n",
    "            path = \"dbfs:/FileStore/tables/apple_analysis/output/airpodsAfterIPhone\", \n",
    "            method = \"overwrite\" \n",
    "        ).load_data_frame()"
   ]
  }
 ],
 "metadata": {
  "application/vnd.databricks.v1+notebook": {
   "dashboards": [],
   "environmentMetadata": null,
   "language": "python",
   "notebookMetadata": {
    "pythonIndentUnit": 4
   },
   "notebookName": "load",
   "widgets": {}
  }
 },
 "nbformat": 4,
 "nbformat_minor": 0
}
