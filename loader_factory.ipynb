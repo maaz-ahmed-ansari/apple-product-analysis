{
 "cells": [
  {
   "cell_type": "code",
   "execution_count": 0,
   "metadata": {
    "application/vnd.databricks.v1+cell": {
     "cellMetadata": {
      "byteLimit": 2048000,
      "rowLimit": 10000
     },
     "inputWidgets": {},
     "nuid": "0b2aa572-e458-4c58-be38-6d684f390ded",
     "showTitle": false,
     "title": ""
    },
    "jupyter": {
     "outputs_hidden": true
    }
   },
   "outputs": [],
   "source": [
    "class DataSink:\n",
    "    \"\"\"\n",
    "    Abstract Class\n",
    "    \"\"\"\n",
    "    def __init__(self, df, path, method, params):\n",
    "        self.df = df\n",
    "        self.path = path\n",
    "        self.method = method\n",
    "        self.params = params\n",
    "    \n",
    "    def load_data_frame(self):\n",
    "        \"\"\"\n",
    "        Abstract method. Functions will be defined in subclasses.\n",
    "        \"\"\"\n",
    "        raise ValueError(\"Not Implemented\")\n",
    "\n",
    "class LoadToDbfs(DataSink):\n",
    "    def load_data_frame(self):\n",
    "        self.df.write.mode(self.method).save(self.path)\n",
    "\n",
    "class LoadToDbfsWithPartition(DataSink):\n",
    "    def load_data_frame(self):\n",
    "        parttionByColumn = self.params.get(\"parttionByColumn\")\n",
    "        self.df.write.mode(self.method).partitionBy(*parttionByColumn).save(self.path)\n",
    "\n",
    "def get_sink_source(sink_type, df, path, method, params=None):\n",
    "    if sink_type == \"dbfs\":\n",
    "        return LoadToDbfs(df, path, method, params)\n",
    "    elif sink_type == \"dbfs_with_partition\":\n",
    "        return LoadToDbfsWithPartition(df, path, method, params)\n",
    "    else:\n",
    "        return ValueError(f\"Not implemented for sink type: {sink_type}\")\n"
   ]
  }
 ],
 "metadata": {
  "application/vnd.databricks.v1+notebook": {
   "dashboards": [],
   "environmentMetadata": null,
   "language": "python",
   "notebookMetadata": {
    "pythonIndentUnit": 4
   },
   "notebookName": "loader_factory",
   "widgets": {}
  }
 },
 "nbformat": 4,
 "nbformat_minor": 0
}
