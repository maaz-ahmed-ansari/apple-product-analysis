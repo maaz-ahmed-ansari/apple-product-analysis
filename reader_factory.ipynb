{
 "cells": [
  {
   "cell_type": "code",
   "execution_count": 0,
   "metadata": {
    "application/vnd.databricks.v1+cell": {
     "cellMetadata": {
      "byteLimit": 2048000,
      "rowLimit": 10000
     },
     "inputWidgets": {},
     "nuid": "80e4e235-6e0e-4444-b017-0fe31e93533e",
     "showTitle": false,
     "title": ""
    }
   },
   "outputs": [],
   "source": [
    "class DataSource:\n",
    "    \"\"\"\n",
    "    Abstract Class\n",
    "    \"\"\"\n",
    "    def __init__(self, path):\n",
    "        self.path = path\n",
    "    \n",
    "    def get_data_frame(self):\n",
    "        \"\"\"\n",
    "        Abstract method. Functions will be defined in subclasses.\n",
    "        \"\"\"\n",
    "        raise ValueError(\"Not Implemented\")\n",
    "\n",
    "class CsvDataSource(DataSource):\n",
    "    def get_data_frame(self):\n",
    "        return (\n",
    "            spark\n",
    "            .read\n",
    "            .format('csv')\n",
    "            .option('header', True)\n",
    "            .load(self.path)\n",
    "        )\n",
    "\n",
    "class ParquetDataSource(DataSource):\n",
    "    def get_data_frame(self):\n",
    "        return (\n",
    "            spark\n",
    "            .read\n",
    "            .format('parquet')\n",
    "            .load(self.path)\n",
    "        )\n",
    "\n",
    "class DeltaDataSource(DataSource):\n",
    "    def get_data_frame(self):\n",
    "        table_name = self.path\n",
    "        return (\n",
    "            spark\n",
    "            .read\n",
    "            .table(table_name)\n",
    "        )\n",
    "\n",
    "def get_data_source(data_type, file_path):\n",
    "    if data_type == 'csv':\n",
    "        return CsvDataSource(file_path)\n",
    "    elif data_type == 'parquet':\n",
    "        return ParquetDataSource(file_path)\n",
    "    elif data_type == 'delta':\n",
    "        return DeltaDataSource(file_path)\n",
    "    else:\n",
    "        raise ValueError(f\"Not implemented for data type: {data_type}\")"
   ]
  }
 ],
 "metadata": {
  "application/vnd.databricks.v1+notebook": {
   "dashboards": [],
   "environmentMetadata": null,
   "language": "python",
   "notebookMetadata": {
    "pythonIndentUnit": 4
   },
   "notebookName": "reader_factory",
   "widgets": {}
  }
 },
 "nbformat": 4,
 "nbformat_minor": 0
}
