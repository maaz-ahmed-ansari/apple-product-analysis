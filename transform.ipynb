{
 "cells": [
  {
   "cell_type": "code",
   "execution_count": 0,
   "metadata": {
    "application/vnd.databricks.v1+cell": {
     "cellMetadata": {
      "byteLimit": 2048000,
      "rowLimit": 10000
     },
     "inputWidgets": {},
     "nuid": "ab31ec9d-4a25-4a42-b0e0-d9f3958b31f9",
     "showTitle": false,
     "title": ""
    }
   },
   "outputs": [],
   "source": [
    "from pyspark.sql.window import Window\n",
    "from pyspark.sql import functions as f\n",
    "from pyspark.sql.functions import lead\n",
    "from pyspark.sql.types import IntegerType"
   ]
  },
  {
   "cell_type": "code",
   "execution_count": 0,
   "metadata": {
    "application/vnd.databricks.v1+cell": {
     "cellMetadata": {
      "byteLimit": 2048000,
      "rowLimit": 10000
     },
     "inputWidgets": {},
     "nuid": "e5052243-bc2f-4292-a5b1-d0b5599f69dc",
     "showTitle": false,
     "title": ""
    }
   },
   "outputs": [],
   "source": [
    "class Transformer:\n",
    "    def __init__(self, inputDFs):\n",
    "        self.inputDFs = inputDFs\n",
    "\n",
    "    def transform(self):\n",
    "        pass\n",
    "\n",
    "class FirstTransformer(Transformer):\n",
    "\n",
    "    def transform(self):\n",
    "        \"\"\"\n",
    "        Customers who bought Airpods after buying iPhone\n",
    "        \"\"\"\n",
    "        transactionInputDF = self.inputDFs.get(\"transactionInputDF\")\n",
    "\n",
    "        print(\"transactionInputDF in transform\")\n",
    "\n",
    "        # Ensure customer_id is of IntegerType\n",
    "        transactionInputDF = transactionInputDF.withColumn(\"customer_id\", transactionInputDF[\"customer_id\"].cast(IntegerType()))\n",
    "\n",
    "        transactionInputDF.printSchema()\n",
    "        transactionInputDF.show()\n",
    "\n",
    "        windowSpec = Window.partitionBy(\"customer_id\").orderBy(\"transaction_date\")\n",
    "\n",
    "        transformedDF = transactionInputDF.withColumn(\n",
    "            \"next_product_name\", lead(\"product_name\").over(window=windowSpec)            \n",
    "        )\n",
    "\n",
    "        print(\"with next_product_name\")\n",
    "\n",
    "        transformedDF.orderBy(\"customer_id\", \"transaction_date\").show()\n",
    "\n",
    "        filteredDF = transformedDF.filter(\n",
    "            (f.col(\"product_name\") == \"iPhone\") & (f.col(\"next_product_name\") == \"AirPods\")\n",
    "        )\n",
    "\n",
    "        print(\"Customers who bought Airpods after buying iPhone\")\n",
    "\n",
    "        filteredDF.orderBy(\"customer_id\", \"transaction_date\").show()\n",
    "        \n",
    "        filteredDF = filteredDF.withColumn(\"customer_id\", filteredDF[\"customer_id\"].cast(IntegerType()))\n",
    "\n",
    "        filteredDF = filteredDF.filter(f.col(\"customer_id\").isNotNull())\n",
    "\n",
    "        print(\"filteredDF Schema\")\n",
    "        filteredDF.printSchema()\n",
    "        filteredDF.show()\n",
    "\n",
    "        print(\"customerInputDF\")\n",
    "        customerInputDF = self.inputDFs.get(\"customerInputDF\")\n",
    "\n",
    "        customerInputDF = customerInputDF.filter(f.col(\"customer_id\").isNotNull())\n",
    "\n",
    "        customerInputDF.show()\n",
    "\n",
    "        # Ensure customer_id is of IntegerType in customerInputDF\n",
    "        customerInputDF = customerInputDF.withColumn(\"customer_id\", customerInputDF[\"customer_id\"].cast(IntegerType()))\n",
    "\n",
    "        print(\"customerInputDF Schema\")\n",
    "        customerInputDF.printSchema()\n",
    "        \n",
    "        joinedDF = customerInputDF.join(\n",
    "            f.broadcast(filteredDF),\n",
    "            \"customer_id\"\n",
    "        )\n",
    "\n",
    "        print(\"Joined DF\")\n",
    "        joinedDF.show()\n",
    "\n",
    "        return joinedDF.select(\n",
    "            \"customer_id\",\n",
    "            \"customer_name\",\n",
    "            \"location\"\n",
    "        )\n"
   ]
  }
 ],
 "metadata": {
  "application/vnd.databricks.v1+notebook": {
   "dashboards": [],
   "environmentMetadata": null,
   "language": "python",
   "notebookMetadata": {
    "pythonIndentUnit": 4
   },
   "notebookName": "transform",
   "widgets": {}
  }
 },
 "nbformat": 4,
 "nbformat_minor": 0
}
